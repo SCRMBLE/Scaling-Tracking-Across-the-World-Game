{
 "cells": [
  {
   "cell_type": "code",
   "execution_count": 1,
   "id": "456cac1b",
   "metadata": {},
   "outputs": [],
   "source": [
    "import pandas as pd\n",
    "\n",
    "full = pd.read_parquet('../merged_outputs.parquet')"
   ]
  },
  {
   "cell_type": "code",
   "execution_count": 2,
   "id": "ead0db75",
   "metadata": {},
   "outputs": [
    {
     "name": "stdout",
     "output_type": "stream",
     "text": [
      "broadcast top-1 loss = 42.03\n",
      "broadcast top-2 loss = 59.42\n",
      "broadcast top-3 loss = 71.01\n",
      "broadcast top-4 loss = 80.43\n",
      "imputed top-1 loss = 55.43\n",
      "imputed top-2 loss = 76.81\n",
      "imputed top-3 loss = 88.04\n",
      "imputed top-4 loss = 93.84\n",
      "ground_truth top-1 loss = 59.06\n",
      "ground_truth top-2 loss = 79.35\n",
      "ground_truth top-3 loss = 90.94\n",
      "ground_truth top-4 loss = 93.48\n"
     ]
    }
   ],
   "source": [
    "def is_correct(frame, k, column):\n",
    "    attack = frame[frame.attack_team]\n",
    "    attack = attack.sort_values(f'xReceiver_{column}', ascending=False)\n",
    "    return attack.iloc[:k].receiver.any()\n",
    "\n",
    "columns = ['broadcast', 'imputed', 'ground_truth']\n",
    "k_s = [1, 2, 3, 4]\n",
    "\n",
    "for name in columns:\n",
    "    for k in k_s:\n",
    "        successful = full.groupby('pass_number', group_keys=False).filter(lambda x: x.receiver.any())\n",
    "        accuracy = successful.groupby('pass_number').apply(\n",
    "            lambda x: (is_correct(x, k=k, column=name))\n",
    "        ).mean()\n",
    "        \n",
    "        print(f\"{name} top-{k} loss = {round(accuracy*100, 2)}\")"
   ]
  },
  {
   "cell_type": "code",
   "execution_count": 3,
   "id": "6c9381d2",
   "metadata": {},
   "outputs": [
    {
     "name": "stdout",
     "output_type": "stream",
     "text": [
      "Imputed IOU = 0.7121\n",
      "Raw Broadcast IOU = 0.5105\n"
     ]
    }
   ],
   "source": [
    "def get_iou(frame, column):\n",
    "    gt_ids = set(frame[(0.1 < frame['xReceiver_ground_truth'])].agent_index)\n",
    "    remote_ids = set(frame[(0.1 < frame[f'xReceiver_{column}'])].agent_index)\n",
    "    \n",
    "    intersection = len(gt_ids.intersection(remote_ids))\n",
    "    union = len(gt_ids.union(remote_ids))\n",
    "    \n",
    "    return intersection/union\n",
    "\n",
    "\n",
    "imputed_iou = full.groupby('pass_number', group_keys=False).apply(get_iou, column='imputed').mean()\n",
    "broadcast_iou = full.groupby('pass_number', group_keys=False).apply(get_iou, column='broadcast').mean()\n",
    "\n",
    "print(f\"Imputed IOU = {round(imputed_iou, 4)}\")\n",
    "print(f\"Raw Broadcast IOU = {round(broadcast_iou, 4)}\")"
   ]
  }
 ],
 "metadata": {
  "kernelspec": {
   "display_name": "Python 3 (ipykernel)",
   "language": "python",
   "name": "python3"
  },
  "language_info": {
   "codemirror_mode": {
    "name": "ipython",
    "version": 3
   },
   "file_extension": ".py",
   "mimetype": "text/x-python",
   "name": "python",
   "nbconvert_exporter": "python",
   "pygments_lexer": "ipython3",
   "version": "3.10.12"
  }
 },
 "nbformat": 4,
 "nbformat_minor": 5
}
